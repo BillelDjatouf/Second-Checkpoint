{
 "cells": [
  {
   "cell_type": "markdown",
   "id": "23926522",
   "metadata": {},
   "source": [
    "Python 3.9.12"
   ]
  },
  {
   "cell_type": "code",
   "execution_count": 63,
   "id": "3a7196bd",
   "metadata": {},
   "outputs": [
    {
     "name": "stdout",
     "output_type": "stream",
     "text": [
      "Welcome to my Python world, let's start coding\n"
     ]
    }
   ],
   "source": [
    "print(\"Welcome to my Python world, let's start coding\")"
   ]
  },
  {
   "cell_type": "raw",
   "id": "69ed09bf",
   "metadata": {},
   "source": []
  },
  {
   "cell_type": "code",
   "execution_count": 1,
   "id": "c6d529cf",
   "metadata": {},
   "outputs": [
    {
     "name": "stdout",
     "output_type": "stream",
     "text": [
      "3.141592653589793\n",
      "3.141592653589793\n"
     ]
    }
   ],
   "source": [
    "import math\n",
    "print(math.pi)\n",
    "from math import pi\n",
    "print(pi)"
   ]
  },
  {
   "cell_type": "code",
   "execution_count": 66,
   "id": "a0794064",
   "metadata": {},
   "outputs": [
    {
     "name": "stdout",
     "output_type": "stream",
     "text": [
      "1\n",
      "2\n",
      "a is a positive number\n",
      "<class 'int'> pe 6\n",
      "1 2 3 yes\n",
      "37\n",
      "74\n",
      "1.0\n",
      "0\n",
      "1.0\n"
     ]
    },
    {
     "data": {
      "text/plain": [
       "False"
      ]
     },
     "execution_count": 66,
     "metadata": {},
     "output_type": "execute_result"
    }
   ],
   "source": [
    "a= int(input())\n",
    "b= input()\n",
    "if a > 0:\n",
    "    print(\"a is a positive number\")\n",
    "#this is a comment, it doesn't affect the code in anyway\n",
    "c, e ,d = 5, 6, \"pe\"\n",
    "print (type(c), d, e)\n",
    "x=1 ;y=2 ;z=3\n",
    "print(x, y, z,\"yes\")\n",
    "#Python Arithmetic Operators\n",
    "T=(1+2+3\n",
    "+4+5+6\n",
    "+5+6+5)\n",
    "print(T)\n",
    "S= 2*T\n",
    "print(S)\n",
    "S2=S/74\n",
    "print(S2)\n",
    "S3=S%T\n",
    "print(S3)\n",
    "St=((T+S+S2+S3)//3)%2\n",
    "print(St)\n",
    "St == S3"
   ]
  },
  {
   "cell_type": "code",
   "execution_count": 83,
   "id": "ea5b6f40",
   "metadata": {},
   "outputs": [
    {
     "name": "stdout",
     "output_type": "stream",
     "text": [
      "Welcome to python, Today is \n",
      "ome to\n",
      "insert the day Saturday\n",
      "d\n",
      "Wedn\n",
      "9\n",
      "Welcome to python, Today is Saturday\n"
     ]
    }
   ],
   "source": [
    "#String and accessing them\n",
    "string = \"Welcome to python, Today is \"\n",
    "print(string)\n",
    "print(string[4:10])\n",
    "string2 = input(\"insert the day \")\n",
    "print(string2[-3])\n",
    "string3 = \"Wednesday\"\n",
    "print(string3[0:-5])\n",
    "print(len(string3))\n",
    "print(string + string2)\n",
    "\n"
   ]
  },
  {
   "cell_type": "code",
   "execution_count": 82,
   "id": "6e36c925",
   "metadata": {},
   "outputs": [
    {
     "name": "stdout",
     "output_type": "stream",
     "text": [
      "-12\n",
      "4\n",
      "-8\n",
      "S is a negative number\n"
     ]
    }
   ],
   "source": [
    "x = int(input())\n",
    "y = int(input()) \n",
    "S = ((x+12)**2-y**3)//9\n",
    "print(S)\n",
    "int(S)\n",
    "if S > 0:\n",
    "    print(\"S is a positive number\")\n",
    "else: print(\"S is a negative number\")\n"
   ]
  },
  {
   "cell_type": "code",
   "execution_count": 80,
   "id": "8d52ed89",
   "metadata": {},
   "outputs": [
    {
     "data": {
      "text/plain": [
       "14"
      ]
     },
     "execution_count": 80,
     "metadata": {},
     "output_type": "execute_result"
    }
   ],
   "source": [
    "S = 14.2\n",
    "int(S)"
   ]
  },
  {
   "cell_type": "code",
   "execution_count": 74,
   "id": "565042a7",
   "metadata": {},
   "outputs": [
    {
     "name": "stdout",
     "output_type": "stream",
     "text": [
      "0\n",
      "0\n",
      "0  is equal to  0\n"
     ]
    }
   ],
   "source": [
    "# Conditions\n",
    "x = input()\n",
    "y = input()\n",
    "if x > y:\n",
    "    print(x,\" is greater than \",y)\n",
    "elif x < y:\n",
    "    print(y,\" is greater than \",x)\n",
    "else:\n",
    "    print(x,\" is equal to \",y)"
   ]
  },
  {
   "cell_type": "code",
   "execution_count": 116,
   "id": "157b6b33",
   "metadata": {},
   "outputs": [
    {
     "name": "stdout",
     "output_type": "stream",
     "text": [
      "Type the temperature in C 5\n",
      "278\n"
     ]
    }
   ],
   "source": [
    "u = int(input(\"Type the temperature in C \"))\n",
    "if (type(u)) == int:\n",
    "    S = u + 273\n",
    "    print(S)\n",
    "else: print (\"Please type a number\")\n"
   ]
  },
  {
   "cell_type": "code",
   "execution_count": 133,
   "id": "ef5f4e5c",
   "metadata": {},
   "outputs": [
    {
     "name": "stdout",
     "output_type": "stream",
     "text": [
      "opybguhnijk\n",
      "o\n",
      "p\n",
      "y\n",
      "b\n",
      "g\n",
      "u\n",
      "h\n",
      "n\n",
      "i\n",
      "j\n",
      "k\n"
     ]
    }
   ],
   "source": [
    "x= input()\n",
    "for i in range(len(x)):\n",
    "    print(x[i])"
   ]
  },
  {
   "cell_type": "code",
   "execution_count": null,
   "id": "3a10a82f",
   "metadata": {},
   "outputs": [],
   "source": []
  },
  {
   "cell_type": "markdown",
   "id": "53e17910",
   "metadata": {},
   "source": []
  },
  {
   "cell_type": "code",
   "execution_count": 138,
   "id": "09bc38f9",
   "metadata": {},
   "outputs": [
    {
     "name": "stdout",
     "output_type": "stream",
     "text": [
      "Please enter your password billel123\n",
      "welcome\n"
     ]
    }
   ],
   "source": [
    "mdp = input(\"Please enter your password \")\n",
    "a = \"billel123\"\n",
    "if mdp == a:\n",
    "    print(\"welcome\")\n",
    "else: print(\"wrong password\")"
   ]
  },
  {
   "cell_type": "code",
   "execution_count": 150,
   "id": "a1fd8f7d",
   "metadata": {},
   "outputs": [
    {
     "name": "stdout",
     "output_type": "stream",
     "text": [
      "Please enter your password erzr\n",
      "wrong password\n",
      "Please enter your password zzar\n",
      "wrong password\n",
      "Please enter your password gqerg\n",
      "wrong password\n",
      "Please enter your password billel123\n",
      "Welcome\n"
     ]
    }
   ],
   "source": [
    "inp= input(\"Please enter your password \")\n",
    "a= \"billel123\"\n",
    "while inp != a:\n",
    "    print(\"wrong password\")\n",
    "    inp= input(\"Please enter your password \")\n",
    "print(\"Welcome\")"
   ]
  },
  {
   "cell_type": "code",
   "execution_count": 161,
   "id": "5af1c1ea",
   "metadata": {},
   "outputs": [
    {
     "name": "stdout",
     "output_type": "stream",
     "text": [
      "2\n",
      "4\n",
      "14\n"
     ]
    }
   ],
   "source": [
    "x=int(input())\n",
    "y=int(input())\n",
    "S=((x+12)**2-y**3)//9\n",
    "print(S)"
   ]
  },
  {
   "cell_type": "code",
   "execution_count": 166,
   "id": "d5b7fae4",
   "metadata": {},
   "outputs": [
    {
     "name": "stdout",
     "output_type": "stream",
     "text": [
      "Cod\n",
      "Wor\n",
      "CodWor\n"
     ]
    }
   ],
   "source": [
    "str1 = \"Coding\"\n",
    "str2 = \"World\"\n",
    "print(str1[0:3])\n",
    "print(str2[0:3])\n",
    "print(str1[0:3]+str2[0:3])"
   ]
  },
  {
   "cell_type": "code",
   "execution_count": 12,
   "id": "ce229d6a",
   "metadata": {},
   "outputs": [
    {
     "name": "stdout",
     "output_type": "stream",
     "text": [
      "Enter your first name Billel\n",
      "Enter your last name Djatouf\n",
      "Djatouf Billel\n"
     ]
    }
   ],
   "source": [
    "x = input(\"Enter your first name \")\n",
    "y = input(\"Enter your last name \")\n",
    "print(y, x)\n"
   ]
  },
  {
   "cell_type": "code",
   "execution_count": 63,
   "id": "3be333ea",
   "metadata": {},
   "outputs": [
    {
     "name": "stdout",
     "output_type": "stream",
     "text": [
      "5\n",
      "615\n"
     ]
    }
   ],
   "source": [
    "n = int(input())\n",
    "p = str(n)\n",
    "p1 = (p+p)\n",
    "p2 = (p+p+p)\n",
    "S = (n+int(p1)+int(p2))\n",
    "print(S)"
   ]
  },
  {
   "cell_type": "code",
   "execution_count": 68,
   "id": "c3420933",
   "metadata": {},
   "outputs": [
    {
     "name": "stdout",
     "output_type": "stream",
     "text": [
      "Enter your number 1\n",
      "The number is odd\n"
     ]
    }
   ],
   "source": [
    "x = int(input(\"Enter your number \"))\n",
    "if x%2 == 0:\n",
    "    print(\"The number is even\")\n",
    "else : print(\"The number is odd\")"
   ]
  },
  {
   "cell_type": "code",
   "execution_count": 100,
   "id": "bec70cc5",
   "metadata": {},
   "outputs": [
    {
     "name": "stdout",
     "output_type": "stream",
     "text": [
      "2002,2009,2016,2023,2037,2044,2051,2058,2072,2079,2086,2093,2107,2114,2121,2128,2142,2149,2156,2163,2177,2184,2191,2198,2212,2219,2226,2233,2247,2254,2261,2268,2282,2289,2296,2303,2317,2324,2331,2338,2352,2359,2366,2373,2387,2394,2401,2408,2422,2429,2436,2443,2457,2464,2471,2478,2492,2499,2506,2513,2527,2534,2541,2548,2562,2569,2576,2583,2597,2604,2611,2618,2632,2639,2646,2653,2667,2674,2681,2688,2702,2709,2716,2723,2737,2744,2751,2758,2772,2779,2786,2793,2807,2814,2821,2828,2842,2849,2856,2863,2877,2884,2891,2898,2912,2919,2926,2933,2947,2954,2961,2968,2982,2989,2996,3003,3017,3024,3031,3038,3052,3059,3066,3073,3087,3094,3101,3108,3122,3129,3136,3143,3157,3164,3171,3178,3192,3199,"
     ]
    }
   ],
   "source": [
    "for i in range(2000,3200):\n",
    "    i1 = i%7\n",
    "    i2 = i%5\n",
    "    if i1 == 0 and i2 != 0:\n",
    "        print(i,end=\",\")\n",
    "    \n",
    "        "
   ]
  },
  {
   "cell_type": "code",
   "execution_count": 118,
   "id": "40700425",
   "metadata": {},
   "outputs": [
    {
     "name": "stdout",
     "output_type": "stream",
     "text": [
      "Enter a number 8\n",
      "40320\n",
      "40320\n"
     ]
    }
   ],
   "source": [
    "x = int(input(\"Enter a number \"))\n",
    "y = 1\n",
    "for i in range(y,x+1):\n",
    "    y = y * i\n",
    "print(y)\n",
    "\n",
    "import math\n",
    "print(math.factorial(x))"
   ]
  },
  {
   "cell_type": "code",
   "execution_count": 152,
   "id": "703cb4e9",
   "metadata": {
    "scrolled": true
   },
   "outputs": [
    {
     "name": "stdout",
     "output_type": "stream",
     "text": [
      "bonjour billel\n",
      "bnorble\n"
     ]
    }
   ],
   "source": [
    "str1 = input()\n",
    "str2 = str()\n",
    "for i in range(len(str1)):\n",
    "    if i%2 == 0:\n",
    "        str2 = str2 + str1[i]\n",
    "print(str2)\n",
    "    \n",
    "    "
   ]
  },
  {
   "cell_type": "code",
   "execution_count": 162,
   "id": "2cf6c1d8",
   "metadata": {},
   "outputs": [
    {
     "name": "stdout",
     "output_type": "stream",
     "text": [
      "100\n",
      "90.0\n"
     ]
    }
   ],
   "source": [
    "x = int(input())\n",
    "if x >= 500:\n",
    "    s = x*(50/100)\n",
    "    s1 = x-s\n",
    "    print(s1)\n",
    "elif x >= 200 and x < 500:\n",
    "    s2 = x*(30/100)\n",
    "    s3 = x-s2\n",
    "    print(s3)\n",
    "else: \n",
    "    s4 = x*(10/100)\n",
    "    s5 = x-s4\n",
    "    print(s5)"
   ]
  },
  {
   "cell_type": "code",
   "execution_count": null,
   "id": "a2cdd4b1",
   "metadata": {},
   "outputs": [],
   "source": []
  }
 ],
 "metadata": {
  "kernelspec": {
   "display_name": "Python 3 (ipykernel)",
   "language": "python",
   "name": "python3"
  },
  "language_info": {
   "codemirror_mode": {
    "name": "ipython",
    "version": 3
   },
   "file_extension": ".py",
   "mimetype": "text/x-python",
   "name": "python",
   "nbconvert_exporter": "python",
   "pygments_lexer": "ipython3",
   "version": "3.9.12"
  }
 },
 "nbformat": 4,
 "nbformat_minor": 5
}
